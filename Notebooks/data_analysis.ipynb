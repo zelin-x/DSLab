{
 "cells": [
  {
   "cell_type": "code",
   "execution_count": 1,
   "metadata": {},
   "outputs": [],
   "source": [
    "train_path = r\"../Data/bag_level/train.txt\"\n",
    "test_path = r\"../Data/bag_level/test.txt\""
   ]
  },
  {
   "cell_type": "code",
   "execution_count": 4,
   "metadata": {
    "scrolled": true
   },
   "outputs": [
    {
     "name": "stdout",
     "output_type": "stream",
     "text": [
      "[('NA', 673982), ('疾病\\\\可使用检查\\\\检查', 34834), ('症状\\\\是临床表现\\\\疾病', 31524), ('症状\\\\是诊断依据\\\\疾病', 18537), ('疾病\\\\别名\\\\疾病', 17429), ('治疗\\\\可治疗\\\\疾病', 14068), ('症状\\\\有就诊科室\\\\科室', 12739), ('症状\\\\可使用检查\\\\检查', 10849), ('疾病\\\\有发生部位\\\\人体', 9103), ('疾病\\\\有就诊科室\\\\科室', 8981), ('疾病\\\\有并发症\\\\疾病', 8952), ('检查\\\\有作用对象\\\\人体', 8332), ('特定人群\\\\是多发群体\\\\疾病', 7200), ('药品\\\\可治疗\\\\疾病', 4723), ('检查\\\\有就诊科室\\\\科室', 4095), ('操作\\\\可治疗\\\\疾病', 2949), ('疾病\\\\导致\\\\症状', 2862), ('药品\\\\有禁忌人群\\\\特定人群', 1728), ('检查\\\\别名\\\\检查', 1433), ('操作\\\\有作用对象\\\\人体', 1395), ('疾病\\\\subClassOf\\\\疾病', 1386), ('检查\\\\subClassOf\\\\检查', 1141), ('药品\\\\subClassOf\\\\药品', 935), ('操作\\\\有就诊科室\\\\科室', 864), ('症状\\\\伴随\\\\症状', 814), ('药品\\\\有成分\\\\药品', 762), ('药品\\\\别名\\\\药品', 688), ('操作\\\\有禁忌人群\\\\特定人群', 652), ('操作\\\\有操作对象\\\\人体', 496), ('症状\\\\有发生部位\\\\人体', 425), ('操作\\\\别名\\\\操作', 274), ('疾病\\\\英文名\\\\疾病', 210), ('药品\\\\有功效\\\\效果', 192)]\n"
     ]
    }
   ],
   "source": [
    "class_cnt_dict = {}\n",
    "with open(train_path, 'r', encoding='utf-8')as f:\n",
    "    for line in f:\n",
    "        lin = line.strip()\n",
    "        if lin and len(lin.split('\\t')) == 3:\n",
    "            lin = lin.split('\\t')\n",
    "            try:\n",
    "                class_cnt_dict[lin[-1]] += 1\n",
    "            except KeyError:\n",
    "                class_cnt_dict[lin[-1]] = 1\n",
    "\n",
    "with open(test_path, 'r', encoding='utf-8')as f:\n",
    "    for line in f:\n",
    "        lin = line.strip()\n",
    "        if lin and len(lin.split('\\t')) == 3:\n",
    "            lin = lin.split('\\t')\n",
    "            try:\n",
    "                class_cnt_dict[lin[-1]] += 1\n",
    "            except KeyError:\n",
    "                class_cnt_dict[lin[-1]] = 1\n",
    "\n",
    "class_cnt_dict = sorted(class_cnt_dict.items(), key=lambda x:x[1], reverse=True)"
   ]
  },
  {
   "cell_type": "code",
   "execution_count": 9,
   "metadata": {},
   "outputs": [],
   "source": [
    "import pandas as pd\n",
    "\n",
    "class_name = [_[0] for _ in class_cnt_dict]\n",
    "cnt_num = [_[1] for _ in class_cnt_dict]\n",
    "\n",
    "\n",
    "dataframe = pd.DataFrame({'class_name': class_name, 'count': cnt_num})\n",
    "dataframe.to_csv(\"data_statistic.csv\", index=False, sep=',', encoding='utf_8_sig')"
   ]
  },
  {
   "cell_type": "code",
   "execution_count": 14,
   "metadata": {},
   "outputs": [
    {
     "data": {
      "text/plain": [
       "<matplotlib.axes._subplots.AxesSubplot at 0x2920c7979a0>"
      ]
     },
     "execution_count": 14,
     "metadata": {},
     "output_type": "execute_result"
    },
    {
     "data": {
      "image/png": "[encoded data removed]",
      "text/plain": [
       "<Figure size 432x288 with 1 Axes>"
      ]
     },
     "metadata": {
      "needs_background": "light"
     },
     "output_type": "display_data"
    }
   ],
   "source": [
    "import matplotlib.pyplot as plt\n",
    "\n",
    "# data= pd.Series(dataframe['count'][:],index=range(len(class_name)))\n",
    "# data.plot.bar()\n",
    "\n",
    "no_na_data= pd.Series(dataframe['count'][1:],index=range(len(class_name) - 1))\n",
    "no_na_data.plot.bar()"
   ]
  },
  {
   "cell_type": "code",
   "execution_count": null,
   "metadata": {},
   "outputs": [],
   "source": []
  }
 ],
 "metadata": {
  "kernelspec": {
   "display_name": "Python 3",
   "language": "python",
   "name": "python3"
  },
  "language_info": {
   "codemirror_mode": {
    "name": "ipython",
    "version": 3
   },
   "file_extension": ".py",
   "mimetype": "text/x-python",
   "name": "python",
   "nbconvert_exporter": "python",
   "pygments_lexer": "ipython3",
   "version": "3.8.3"
  }
 },
 "nbformat": 4,
 "nbformat_minor": 4
}
